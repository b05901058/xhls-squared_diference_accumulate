{
 "cells": [
  {
   "cell_type": "code",
   "execution_count": 15,
   "metadata": {},
   "outputs": [
    {
     "name": "stdout",
     "output_type": "stream",
     "text": [
      "Entry: /usr/lib/python3/dist-packages/ipykernel_launcher.py\n",
      "System argument(s): 3\n",
      "Start of \"/usr/lib/python3/dist-packages/ipykernel_launcher.py\"\n",
      "got %lld expected %lld\n",
      " 470985820 470985820\n",
      "got %lld expected %lld\n",
      " 425633768 425633768\n",
      "got %lld expected %lld\n",
      " 419809218 419809218\n",
      "got %lld expected %lld\n",
      " 157421593 157421593\n",
      "got %lld expected %lld\n",
      " 329448304 329448304\n",
      "got %lld expected %lld\n",
      " 680498598 680498598\n",
      "got %lld expected %lld\n",
      " 440721899 440721899\n",
      "got %lld expected %lld\n",
      " 429636357 429636357\n",
      "got %lld expected %lld\n",
      " 173408014 173408014\n",
      "got %lld expected %lld\n",
      " 378067479 378067479\n",
      "TEST SUCCESS!\n",
      "\n"
     ]
    }
   ],
   "source": [
    "from __future__ import print_function\n",
    "\n",
    "import sys\n",
    "import numpy as np\n",
    "from time import time\n",
    "import math\n",
    "import random\n",
    "\n",
    "sys.path.append('/home/xilinx')\n",
    "from pynq import Overlay\n",
    "from pynq import allocate\n",
    "\n",
    "if __name__ == \"__main__\":\n",
    "    print(\"Entry:\", sys.argv[0])\n",
    "    print(\"System argument(s):\", len(sys.argv))\n",
    "\n",
    "    print(\"Start of \\\"\" + sys.argv[0] + \"\\\"\")\n",
    "\n",
    "    ol = Overlay(\"/home/xilinx/Ti-Yu/acc/acc.bit\")\n",
    "    ipacc = ol.diff_sq_acc_0\n",
    "    \n",
    "    N = 10\n",
    "\n",
    "    inBuffer0 = allocate(shape=(N,), dtype=np.int16)\n",
    "    inBuffer1 = allocate(shape=(N,), dtype=np.int16)\n",
    "\n",
    "        \n",
    "        \n",
    "    cnt = 0\n",
    "    for k in range(10):\n",
    "        gold = 0\n",
    "        for i in range(N):\n",
    "            inBuffer0[i] = np.int16(random.randrange(1024*16))\n",
    "            inBuffer1[i] = np.int16(random.randrange(1024*16))\n",
    "            gold = gold+ np.int64(inBuffer0[i]-inBuffer1[i])*np.int64(inBuffer0[i]-inBuffer1[i])\n",
    "        \n",
    "        ipacc.write(0x10, inBuffer0.device_address)\n",
    "        ipacc.write(0x1c, inBuffer1.device_address)\n",
    "        ipacc.write(0x00, 0x01)\n",
    "        while (ipacc.read(0x00) & 0x4) == 0x0:\n",
    "            continue\n",
    "            \n",
    "        out = ipacc.read(0x28)\n",
    "            \n",
    "        print(\"got %lld expected %lld\\n\", out, gold);\n",
    "        if  (gold - out) !=0:\n",
    "            cnt = cnt+1\n",
    "\n",
    "    if cnt>0:\n",
    "        print(\"TEST FAILED: %d errors\\n\", cnt);\n",
    "    else:\n",
    "        print(\"TEST SUCCESS!\\n\");\n",
    "\n",
    "\n",
    "\n",
    "    "
   ]
  },
  {
   "cell_type": "code",
   "execution_count": null,
   "metadata": {},
   "outputs": [],
   "source": []
  },
  {
   "cell_type": "code",
   "execution_count": null,
   "metadata": {},
   "outputs": [],
   "source": []
  }
 ],
 "metadata": {
  "kernelspec": {
   "display_name": "Python 3",
   "language": "python",
   "name": "python3"
  },
  "language_info": {
   "codemirror_mode": {
    "name": "ipython",
    "version": 3
   },
   "file_extension": ".py",
   "mimetype": "text/x-python",
   "name": "python",
   "nbconvert_exporter": "python",
   "pygments_lexer": "ipython3",
   "version": "3.6.5"
  }
 },
 "nbformat": 4,
 "nbformat_minor": 2
}
